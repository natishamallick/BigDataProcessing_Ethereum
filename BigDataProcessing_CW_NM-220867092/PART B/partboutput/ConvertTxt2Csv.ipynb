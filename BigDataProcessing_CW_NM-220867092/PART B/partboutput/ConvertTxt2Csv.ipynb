{
 "cells": [
  {
   "cell_type": "code",
   "execution_count": 6,
   "id": "675f50e2-60e1-425d-a681-b43539e5001f",
   "metadata": {},
   "outputs": [],
   "source": [
    "import json\n",
    "import csv\n",
    "\n",
    "with open('top10_smart_contracts.txt', 'r') as file:\n",
    "    text = json.load(file)\n",
    "\n",
    "with open('top10_smart_contract.csv', 'w', newline='') as file:\n",
    "    writer = csv.writer(file)\n",
    "    header = ['Address', 'Ether Value']\n",
    "    writer.writerow(header)\n",
    "    for row in text:\n",
    "        writer.writerow(row)"
   ]
  },
  {
   "cell_type": "code",
   "execution_count": null,
   "id": "e4392c80-f9d0-4f58-8224-96be9e014aaf",
   "metadata": {},
   "outputs": [],
   "source": []
  }
 ],
 "metadata": {
  "kernelspec": {
   "display_name": "Python 3 (ipykernel)",
   "language": "python",
   "name": "python3"
  },
  "language_info": {
   "codemirror_mode": {
    "name": "ipython",
    "version": 3
   },
   "file_extension": ".py",
   "mimetype": "text/x-python",
   "name": "python",
   "nbconvert_exporter": "python",
   "pygments_lexer": "ipython3",
   "version": "3.10.6"
  }
 },
 "nbformat": 4,
 "nbformat_minor": 5
}
