{
 "cells": [
  {
   "cell_type": "code",
   "execution_count": 1,
   "id": "aa2e626a-57d8-4d30-91c0-297e59a80bcf",
   "metadata": {
    "tags": []
   },
   "outputs": [],
   "source": [
    "import csv\n",
    "\n",
    "with open('avg_gasprice.txt', 'r') as f:\n",
    "    data = eval(f.read())\n",
    "\n",
    "with open('avg_gasprice.csv', 'w', newline='') as f:\n",
    "    writer = csv.writer(f)\n",
    "    writer.writerow(['Date', 'Value'])  \n",
    "    writer.writerows(data) "
   ]
  },
  {
   "cell_type": "code",
   "execution_count": 2,
   "id": "be2309a5-6f80-4df5-9d51-c3ee7fbf5773",
   "metadata": {
    "tags": []
   },
   "outputs": [],
   "source": [
    "with open('avg_gasused.txt', 'r') as f:\n",
    "    data = eval(f.read())\n",
    "\n",
    "with open('avg_gasused.csv', 'w', newline='') as f:\n",
    "    writer = csv.writer(f)\n",
    "    writer.writerow(['Date', 'Value']) \n",
    "    writer.writerows(data)  "
   ]
  },
  {
   "cell_type": "code",
   "execution_count": null,
   "id": "23fb0ecb-5fca-45b5-b6ac-ba0a9175f368",
   "metadata": {},
   "outputs": [],
   "source": []
  }
 ],
 "metadata": {
  "kernelspec": {
   "display_name": "Python 3 (ipykernel)",
   "language": "python",
   "name": "python3"
  },
  "language_info": {
   "codemirror_mode": {
    "name": "ipython",
    "version": 3
   },
   "file_extension": ".py",
   "mimetype": "text/x-python",
   "name": "python",
   "nbconvert_exporter": "python",
   "pygments_lexer": "ipython3",
   "version": "3.10.6"
  }
 },
 "nbformat": 4,
 "nbformat_minor": 5
}
