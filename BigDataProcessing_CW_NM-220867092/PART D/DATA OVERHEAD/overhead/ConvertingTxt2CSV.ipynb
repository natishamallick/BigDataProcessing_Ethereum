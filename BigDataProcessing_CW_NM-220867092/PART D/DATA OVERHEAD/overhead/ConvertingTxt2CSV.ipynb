{
 "cells": [
  {
   "cell_type": "code",
   "execution_count": 3,
   "id": "8604d6c6-8f77-4688-b92d-aa9a416c4aa3",
   "metadata": {
    "tags": []
   },
   "outputs": [],
   "source": [
    "import csv\n",
    "\n",
    "with open('overhead_data_file.txt', 'r') as infile, open('overhead_data_csv.csv', 'w', newline='') as outfile:\n",
    "    writer = csv.writer(outfile)\n",
    "\n",
    "    writer.writerow(['column_name', 'size_bytes'])\n",
    "\n",
    "    for line in infile:\n",
    "        parts = line.strip().split(',')\n",
    "\n",
    "        writer.writerow(parts)"
   ]
  },
  {
   "cell_type": "code",
   "execution_count": 4,
   "id": "259fe770-721b-4880-b6b3-09a9b3b64adf",
   "metadata": {
    "tags": []
   },
   "outputs": [],
   "source": [
    "import csv\n",
    "\n",
    "with open('percentage_saved_file.txt', 'r') as infile, open('percentage_saved_file.csv', 'w', newline='') as outfile:\n",
    "    writer = csv.writer(outfile)\n",
    "\n",
    "  \n",
    "    writer.writerow(['column_name', 'space_saved', 'percentage_saved'])\n",
    "\n",
    "    for line in infile:\n",
    "        parts = line.strip().split(',')\n",
    "\n",
    "        column_name = parts[0]\n",
    "        space_saved = parts[1]\n",
    "        percentage_saved = parts[2]\n",
    "\n",
    "        writer.writerow([column_name, space_saved, percentage_saved])"
   ]
  },
  {
   "cell_type": "code",
   "execution_count": null,
   "id": "78257962-a0f0-40a5-b6b7-10a27f3f8f35",
   "metadata": {},
   "outputs": [],
   "source": []
  }
 ],
 "metadata": {
  "kernelspec": {
   "display_name": "Python 3 (ipykernel)",
   "language": "python",
   "name": "python3"
  },
  "language_info": {
   "codemirror_mode": {
    "name": "ipython",
    "version": 3
   },
   "file_extension": ".py",
   "mimetype": "text/x-python",
   "name": "python",
   "nbconvert_exporter": "python",
   "pygments_lexer": "ipython3",
   "version": "3.10.6"
  }
 },
 "nbformat": 4,
 "nbformat_minor": 5
}
