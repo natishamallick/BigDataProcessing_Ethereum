{
 "cells": [
  {
   "cell_type": "code",
   "execution_count": 1,
   "id": "51ae84f8-68fb-41a6-bcf6-30de086c5fff",
   "metadata": {
    "tags": []
   },
   "outputs": [],
   "source": [
    "import json\n",
    "import csv\n",
    "\n",
    "with open('top10_washtrade.txt', 'r') as file:\n",
    "    text = json.load(file)\n",
    "\n",
    "with open('top10_washtrade.csv', 'w', newline='') as file:\n",
    "    writer = csv.writer(file)\n",
    "    header = ['Address', 'Value']\n",
    "    writer.writerow(header)\n",
    "    for row in text:\n",
    "        writer.writerow(row)"
   ]
  },
  {
   "cell_type": "code",
   "execution_count": null,
   "id": "a83acb89-9ce0-4a7a-a835-2473689180e0",
   "metadata": {},
   "outputs": [],
   "source": []
  }
 ],
 "metadata": {
  "kernelspec": {
   "display_name": "Python 3 (ipykernel)",
   "language": "python",
   "name": "python3"
  },
  "language_info": {
   "codemirror_mode": {
    "name": "ipython",
    "version": 3
   },
   "file_extension": ".py",
   "mimetype": "text/x-python",
   "name": "python",
   "nbconvert_exporter": "python",
   "pygments_lexer": "ipython3",
   "version": "3.10.6"
  }
 },
 "nbformat": 4,
 "nbformat_minor": 5
}
