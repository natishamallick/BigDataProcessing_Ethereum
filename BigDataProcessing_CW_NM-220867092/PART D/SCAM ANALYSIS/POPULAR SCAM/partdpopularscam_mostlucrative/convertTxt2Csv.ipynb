{
 "cells": [
  {
   "cell_type": "code",
   "execution_count": 1,
   "id": "75a7fbdc-1a2b-4ab5-ae7d-63a12f675576",
   "metadata": {
    "tags": []
   },
   "outputs": [],
   "source": [
    "import csv\n",
    "\n",
    "with open('most_lucrative_scams.txt', 'r') as file:\n",
    "    data = eval(file.read())\n",
    "\n",
    "with open('mostlucrativescams.csv', 'w', newline='') as file:\n",
    "    writer = csv.writer(file)\n",
    "    writer.writerow(['ID', 'Type', 'Score'])\n",
    "    for d in data:\n",
    "        writer.writerow([d[0][0], d[0][1], d[1]])"
   ]
  },
  {
   "cell_type": "code",
   "execution_count": null,
   "id": "9bdddcda-43e9-43d6-872e-482cc9f846f8",
   "metadata": {},
   "outputs": [],
   "source": []
  }
 ],
 "metadata": {
  "kernelspec": {
   "display_name": "Python 3 (ipykernel)",
   "language": "python",
   "name": "python3"
  },
  "language_info": {
   "codemirror_mode": {
    "name": "ipython",
    "version": 3
   },
   "file_extension": ".py",
   "mimetype": "text/x-python",
   "name": "python",
   "nbconvert_exporter": "python",
   "pygments_lexer": "ipython3",
   "version": "3.10.6"
  }
 },
 "nbformat": 4,
 "nbformat_minor": 5
}
