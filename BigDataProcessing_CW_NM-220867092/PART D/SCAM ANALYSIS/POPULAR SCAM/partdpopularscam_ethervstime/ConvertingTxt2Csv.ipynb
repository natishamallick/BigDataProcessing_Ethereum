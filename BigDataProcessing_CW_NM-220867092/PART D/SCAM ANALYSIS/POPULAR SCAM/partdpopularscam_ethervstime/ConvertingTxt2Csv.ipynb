{
 "cells": [
  {
   "cell_type": "code",
   "execution_count": 4,
   "id": "8145c374-cf6f-4981-82b0-eef0d37de4ab",
   "metadata": {
    "tags": []
   },
   "outputs": [],
   "source": [
    "import csv\n",
    "\n",
    "with open('ethervstime.txt', 'r') as input_file:\n",
    "    data = eval(input_file.read())\n",
    "\n",
    "with open('ether_vs_time.csv', 'w', newline='') as output_file:\n",
    "    writer = csv.writer(output_file)\n",
    "\n",
    "    writer.writerow(['Date', 'Type', 'Amount'])\n",
    "\n",
    "    for row in data:\n",
    "        date = row[0][0]\n",
    "        scam_type = row[0][1]\n",
    "        amount = row[1]\n",
    "        writer.writerow([date, scam_type, amount])"
   ]
  },
  {
   "cell_type": "code",
   "execution_count": null,
   "id": "58431cb7-4fd9-486b-a4f1-ed7cbdffe93f",
   "metadata": {},
   "outputs": [],
   "source": []
  }
 ],
 "metadata": {
  "kernelspec": {
   "display_name": "Python 3 (ipykernel)",
   "language": "python",
   "name": "python3"
  },
  "language_info": {
   "codemirror_mode": {
    "name": "ipython",
    "version": 3
   },
   "file_extension": ".py",
   "mimetype": "text/x-python",
   "name": "python",
   "nbconvert_exporter": "python",
   "pygments_lexer": "ipython3",
   "version": "3.10.6"
  }
 },
 "nbformat": 4,
 "nbformat_minor": 5
}
