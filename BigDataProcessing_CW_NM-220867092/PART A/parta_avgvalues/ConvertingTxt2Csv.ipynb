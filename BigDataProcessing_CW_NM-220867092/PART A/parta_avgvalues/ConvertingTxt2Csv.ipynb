{
 "cells": [
  {
   "cell_type": "code",
   "execution_count": 3,
   "id": "7dc8dded-80e8-492c-b66c-202857f11eed",
   "metadata": {
    "tags": []
   },
   "outputs": [],
   "source": [
    "import csv\n",
    "\n",
    "with open('average_value.txt', 'r') as file:\n",
    "    text = file.read()\n",
    "    data = text.strip('[]').split(', ')\n",
    "\n",
    "with open('average_value.csv', 'w', newline='') as file:\n",
    "    writer = csv.writer(file)\n",
    "    for row in data:\n",
    "        date, value = row.split(',')\n",
    "        writer.writerow([date, value])"
   ]
  },
  {
   "cell_type": "code",
   "execution_count": 4,
   "id": "a90dfd07-6d4d-4c97-a6aa-a935c4d70610",
   "metadata": {
    "tags": []
   },
   "outputs": [],
   "source": [
    "import pandas as pd\n",
    "\n",
    "df = pd.read_csv('average_value.csv')\n",
    "\n",
    "df.columns = ['Date', 'Value']\n",
    "\n",
    "df.to_csv('new_average_value.csv', index=False)"
   ]
  },
  {
   "cell_type": "code",
   "execution_count": 6,
   "id": "fd4872eb-49d0-4293-8e27-9a67a24dce5b",
   "metadata": {
    "tags": []
   },
   "outputs": [],
   "source": [
    "import pandas as pd\n",
    "\n",
    "df = pd.read_csv('new_average_value.csv')\n",
    "\n",
    "df['Date'] = df['Date'].apply(lambda x: x.replace('\"', ''))\n",
    "\n",
    "df.to_csv('new_average_values.csv', index=False)"
   ]
  },
  {
   "cell_type": "code",
   "execution_count": null,
   "id": "5090e0e0-d6a3-4192-b4cc-688cfbef55d2",
   "metadata": {},
   "outputs": [],
   "source": []
  }
 ],
 "metadata": {
  "kernelspec": {
   "display_name": "Python 3 (ipykernel)",
   "language": "python",
   "name": "python3"
  },
  "language_info": {
   "codemirror_mode": {
    "name": "ipython",
    "version": 3
   },
   "file_extension": ".py",
   "mimetype": "text/x-python",
   "name": "python",
   "nbconvert_exporter": "python",
   "pygments_lexer": "ipython3",
   "version": "3.10.6"
  }
 },
 "nbformat": 4,
 "nbformat_minor": 5
}
