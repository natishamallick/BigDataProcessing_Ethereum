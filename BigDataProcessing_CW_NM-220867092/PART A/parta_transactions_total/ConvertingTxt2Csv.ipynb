{
 "cells": [
  {
   "cell_type": "code",
   "execution_count": 1,
   "id": "d7fec616-a879-4bcc-bdf2-63163cb57677",
   "metadata": {
    "tags": []
   },
   "outputs": [],
   "source": [
    "import csv\n",
    "\n",
    "with open('transactions_total.txt', 'r') as file:\n",
    "    data = eval(file.read())\n",
    "\n",
    "with open('transactions_total.csv', 'w', newline='') as file:\n",
    "    writer = csv.writer(file)\n",
    "    writer.writerow(['Date', 'Value'])  \n",
    "    writer.writerows(data) "
   ]
  },
  {
   "cell_type": "code",
   "execution_count": null,
   "id": "8e42f31b-16a3-4aae-8536-cb362a58497d",
   "metadata": {},
   "outputs": [],
   "source": []
  }
 ],
 "metadata": {
  "kernelspec": {
   "display_name": "Python 3 (ipykernel)",
   "language": "python",
   "name": "python3"
  },
  "language_info": {
   "codemirror_mode": {
    "name": "ipython",
    "version": 3
   },
   "file_extension": ".py",
   "mimetype": "text/x-python",
   "name": "python",
   "nbconvert_exporter": "python",
   "pygments_lexer": "ipython3",
   "version": "3.10.6"
  }
 },
 "nbformat": 4,
 "nbformat_minor": 5
}
