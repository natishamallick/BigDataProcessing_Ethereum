{
 "cells": [
  {
   "cell_type": "code",
   "execution_count": 1,
   "id": "416b9165-aabc-40d3-b0ba-17ec80ac784a",
   "metadata": {
    "tags": []
   },
   "outputs": [],
   "source": [
    "import json\n",
    "import csv\n",
    "\n",
    "with open('top10_miners.txt', 'r') as file:\n",
    "    text = json.load(file)\n",
    "\n",
    "with open('top10_miners.csv', 'w', newline='') as file:\n",
    "    writer = csv.writer(file)\n",
    "    header = ['Miner', 'Size']\n",
    "    writer.writerow(header)\n",
    "    for row in text:\n",
    "        writer.writerow(row)"
   ]
  },
  {
   "cell_type": "code",
   "execution_count": null,
   "id": "4ba710ce-6b0b-4f90-8dab-6451684dc47e",
   "metadata": {},
   "outputs": [],
   "source": []
  }
 ],
 "metadata": {
  "kernelspec": {
   "display_name": "Python 3 (ipykernel)",
   "language": "python",
   "name": "python3"
  },
  "language_info": {
   "codemirror_mode": {
    "name": "ipython",
    "version": 3
   },
   "file_extension": ".py",
   "mimetype": "text/x-python",
   "name": "python",
   "nbconvert_exporter": "python",
   "pygments_lexer": "ipython3",
   "version": "3.10.6"
  }
 },
 "nbformat": 4,
 "nbformat_minor": 5
}
